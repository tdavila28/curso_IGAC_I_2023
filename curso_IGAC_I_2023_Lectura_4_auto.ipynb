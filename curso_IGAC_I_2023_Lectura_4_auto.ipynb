{
 "cells": [
  {
   "cell_type": "markdown",
   "metadata": {},
   "source": [
    "<center>\n",
    "\n",
    "![IGAC](data/images/image_igac.jpg)\n",
    "\n",
    "</center>"
   ]
  },
  {
   "cell_type": "markdown",
   "metadata": {},
   "source": [
    "---\n",
    "## ***Observatorio inmobiliario catastral***\n",
    "\n",
    "### ***Curso introducción al lenguaje de programación `python`.***\n",
    "\n",
    "### ***Lectura 4.***\n",
    "---\n",
    "\n",
    "\n",
    "Instructor : *_[Luis Andres Campos Maldonado](https://co.linkedin.com/in/lacamposm)_*"
   ]
  },
  {
   "cell_type": "markdown",
   "metadata": {},
   "source": [
    "---\n",
    "\n",
    "##  ***Automatizando procesos para la base catastral `R1`.***\n",
    "\n",
    "---"
   ]
  },
  {
   "cell_type": "markdown",
   "metadata": {},
   "source": [
    "#### ***Problema:  Desarrollar un análisis descriptivo básico de la base catastral `R1`.***\n",
    "\n",
    "Debemos responder las preguntan que sean necesarias para determinar si este proceso depende o no del munucipio, es caso que la respuesta sea `NO`, tenemos la opción de automatizarlo.\n",
    "\n",
    "Solo algunas preguntas:\n",
    "\n",
    "1. ¿Todos los municipio tiene la misma forma de la base catastral `R1`? \n",
    "2. ¿Siempre recibimos la misma forma de la información? \n",
    "3. ¿Está en el mismo formato?\n",
    "\n",
    "\n",
    "Pasos que debemos seguir para automatizar el proceso:\n",
    "\n",
    "1. Abrir el archivo.\n",
    "2. Transformalo en un `pd.Dataframe`\n",
    "3. Manipular el dataframe y generar un nuevo `pd.DataFrame` \"mejorado\".\n",
    "4. Generar las estadísticas descriptivas de interés a nivel tabular.\n",
    "5. Generar estadísticas descriptivas a nivel gráfico básico."
   ]
  },
  {
   "cell_type": "markdown",
   "metadata": {},
   "source": [
    "#### ***Vamos a desarrollar una class en python con 3 métodos:***\n",
    "\n",
    "1. Escribir el `pd.DataFrame` \"mejorado\" en un archivo Excel.\n",
    "2. Descriptivos tabulares generales.\n",
    "3. Descriptivos gráficos básicos."
   ]
  },
  {
   "cell_type": "code",
   "execution_count": 1,
   "metadata": {},
   "outputs": [],
   "source": [
    "import os\n",
    "import bz2\n",
    "import pandas as pd\n",
    "import numpy as np\n",
    "import matplotlib.pyplot as plt\n",
    "import seaborn as sns\n",
    "import plotly.graph_objs as go\n",
    "from plotly.subplots import make_subplots\n",
    "\n",
    "\n",
    "class ManipulationPyR1():\n",
    "    \"\"\"\n",
    "    \"\"\"\n",
    "    temp = pd.read_excel('data/DESTINACION_ECONOMICA_CODIGOS.xlsx')\n",
    "    MAPPER_DESTI_ECONO = dict(zip(temp.CODIGO.astype('string'), temp['NOMBRE DE DESTINACIÓN ECONÓMICA']))\n",
    "    MAPPER_CONDITION = {'0':'NoRegPH', '2':'PredioInformal', '3':'UsoPubNoVias', '4':'Vias', '5':'MejoraPredioAjeno',\n",
    "                        '6':'MejAjenoPH', '7':'ParqCemente', '8':'PH_Condominio', '9':'PH'}\n",
    "    ###\n",
    "    def __init__(self, path_file:str):\n",
    "        self.path_file = os.path.abspath(path_file)\n",
    "    ###\n",
    "    def _clean_pandas_dataframe(self):\n",
    "        \"\"\"\n",
    "        \"\"\"\n",
    "        #with bz2.BZ2File(self.path_file) as f:\n",
    "        #    dataframe = pd.read_csv(f, sep='\\t')\n",
    "        ## Caso csv\n",
    "        dataframe = pd.read_csv(self.path_file)\n",
    "        def zone_classification(zone):\n",
    "            \"\"\"\n",
    "            Esta función reasigna la zona en tres grandes grupos: rural, urbano y corregimientos\n",
    "            Input: str (00, 01, 02, ..., 09)  <--- SE PODRÍA PENSAR EN UN mapper como el caso anterior.\n",
    "            Output: str con los códigos en palabras.\n",
    "            \"\"\"\n",
    "            if zone == '00':\n",
    "                return 'rural'\n",
    "            elif zone == '01':\n",
    "                return 'urbano'\n",
    "            else:\n",
    "                return 'corregimiento'\n",
    "        ####\n",
    "        dataframe['NPN'] = dataframe['DEPARTAMENTO'].astype('str')+dataframe['MUNICIPIO'].astype('str') + \\\n",
    "                           dataframe['NUMERO_DEL_PREDIO']  \n",
    "        column = dataframe.pop('NPN')            ## Se obtiene toda la pd.Series asociada a la columna \"NPN\"\n",
    "        dataframe.insert(0, 'NPN', column)       ## Insertamos la columna \"NPN\" como la primera.\n",
    "        dataframe.drop(columns=['DEPARTAMENTO', 'MUNICIPIO', 'NUMERO_DEL_PREDIO'], inplace=True)\n",
    "        ## Vamos a construir estas nuevas columnas:\n",
    "        dataframe['DIVIPOLA'] = dataframe['NPN'].apply(lambda x: str(x)[0:5])\n",
    "        dataframe['ZONA'] = dataframe['NPN'].apply(lambda x: str(x)[5:7])\n",
    "        dataframe['SECTOR_COMUNA_BARRIO'] = dataframe['NPN'].apply(lambda x: str(x)[7:13])\n",
    "        dataframe['MANZANA_VEREDA'] = dataframe['NPN'].apply(lambda x: str(x)[13:17])\n",
    "        dataframe['TERRENO'] = dataframe['NPN'].apply(lambda x: str(x)[17:21])\n",
    "        dataframe['CONDICION_PREDIO'] = dataframe['NPN'].apply(lambda x: str(x)[21])\n",
    "        dataframe['NUMERO_CONSTRUCCION'] = dataframe['NPN'].apply(lambda x: str(x)[22:])\n",
    "        dataframe['CONDICION_PREDIO'] = dataframe['CONDICION_PREDIO'].map(self.MAPPER_CONDITION)\n",
    "        dataframe['DESTINO_ECONOMICO'] = dataframe['DESTINO_ECONOMICO'].map(self.MAPPER_DESTI_ECONO)\n",
    "        dataframe['ZONA'] = dataframe['ZONA'].apply(lambda x: zone_classification(x))\n",
    "        ### Columns to move\n",
    "        columns_move = ['DIVIPOLA', 'ZONA', 'SECTOR_COMUNA_BARRIO', 'MANZANA_VEREDA', 'TERRENO', \\\n",
    "                        'CONDICION_PREDIO', 'NUMERO_CONSTRUCCION']\n",
    "        columns = [dataframe.pop(col) for col in columns_move]\n",
    "        for idx, col in enumerate(columns):\n",
    "            dataframe.insert(idx+1, col.name, col)\n",
    "        dataframe = dataframe.query('NUMERO_DE_ORDEN == TOTAL_REGISTROS')\n",
    "        return dataframe.reset_index(drop=True)\n",
    "    ###########################  MÉTODOS DE LA CLASS #########################################\n",
    "    def get_file_excel(self, folder_to_write, name_file):\n",
    "        \"\"\"\n",
    "        Esta función escribe el pd.DataFrame \"arreglado\" como un archivo excel.\n",
    "        \"\"\"\n",
    "        name_extension = name_file + '.xlsx'\n",
    "        df = self._clean_pandas_dataframe()\n",
    "        path_to_write = os.path.abspath(os.path.join(folder_to_write, name_extension))\n",
    "        df.to_excel(path_to_write, index=False, sheet_name='NuquiR1')\n",
    "        return None\n",
    "    def get_statistical_table(self, columna):\n",
    "\n",
    "        \"\"\"\n",
    "        Esta función proporciona estadísticos básicos para las variables categóricas.\n",
    "        \"\"\"\n",
    "        df = self._clean_pandas_dataframe()    \n",
    "        grouper = df.groupby(by=[columna]).agg(CANTIDAD_PREDIOS=('NPN', 'count'), AREA_TERRENO=('AREA_TERRENO', 'sum'),\n",
    "                                            AREA_CONSTRUIDA=('AREA_CONSTRUIDA', 'sum'), AVALUO=('AVALUO','sum'))\n",
    "        grouper.loc['TOTALES'] = grouper.sum()\n",
    "        grouper = grouper.sort_values(by=['CANTIDAD_PREDIOS'], ascending=True)\n",
    "        grouper = grouper.style.format('{:,.0f}')    \n",
    "        def highlight_row(row):\n",
    "            styles = [''] * len(row)\n",
    "            if row.name == 'TOTALES':\n",
    "                styles = ['background-color: green'] * len(row)\n",
    "            return styles\n",
    "        grouper = grouper.apply(highlight_row, axis=1)    \n",
    "        display(grouper)\n",
    "        return None\n",
    "    def get_statistical_plot(self):\n",
    "        \"\"\"\n",
    "        \"\"\"\n",
    "        df_plot = self._clean_pandas_dataframe()\n",
    "        df_plot = pd.pivot_table(df_plot, values=['NPN', 'AREA_TERRENO', 'AREA_CONSTRUIDA', 'AVALUO'], \n",
    "                         index=['CONDICION_PREDIO', 'DESTINO_ECONOMICO'], \n",
    "                         aggfunc={'AREA_CONSTRUIDA':np.sum, 'NPN': np.size, 'AREA_TERRENO':np.sum, 'AVALUO':np.sum},\n",
    "                         fill_value=0).reset_index()\n",
    "        fig = make_subplots(rows=1, cols=1, specs=[[{'type': 'bar'}]])\n",
    "        conditions = df_plot['CONDICION_PREDIO'].unique()\n",
    "        labels = {'AREA_CONSTRUIDA': 'Total Área Construida', 'AREA_TERRENO': 'Total Área Terreno', 'AVALUO': 'Total Avalúo',\n",
    "                'NPN': 'Cantidad'}\n",
    "        ###\n",
    "        for columna in ['AREA_CONSTRUIDA', 'AREA_TERRENO', 'AVALUO', 'NPN']:\n",
    "            for condition in conditions:\n",
    "                df = df_plot[df_plot['CONDICION_PREDIO'] == condition]\n",
    "                etiqueta = f\"{labels[columna]}\"\n",
    "                fig.add_trace(go.Bar(x=df['DESTINO_ECONOMICO'], y=df[columna], name=etiqueta), 1, 1)\n",
    "        fig.update_layout(\n",
    "            title_text=\"Descriptivos base catastral R1\", title_font=dict(size=35, family='Ubuntu', ),#style='italic'),\n",
    "            template='plotly_dark',\n",
    "            updatemenus=[{\n",
    "            'buttons': [\n",
    "                {'method': 'update', 'label': condition, 'args': [{'visible': [True if cond == condition else False for cond in conditions]}]}\n",
    "                for condition in conditions\n",
    "            ],\n",
    "            'direction': 'down',\n",
    "            'showactive': True,\n",
    "            'active': 0,\n",
    "            'font': dict(color='orange'), \n",
    "            'x':1.21,\n",
    "            'y':0.1\n",
    "        }])\n",
    "\n",
    "        fig.show()\n",
    "        return None"
   ]
  },
  {
   "cell_type": "markdown",
   "metadata": {},
   "source": [
    "## ***Uso de `ManipulationPyR1`***"
   ]
  },
  {
   "cell_type": "code",
   "execution_count": 2,
   "metadata": {},
   "outputs": [],
   "source": [
    "## Creamos una instancia de la class ManipulationPyR1\n",
    "nuquiR1 = ManipulationPyR1('data/nuqui_curso.csv')"
   ]
  },
  {
   "cell_type": "markdown",
   "metadata": {},
   "source": [
    "### ***Escribimos el Excel \"mejorado\".***"
   ]
  },
  {
   "cell_type": "code",
   "execution_count": 3,
   "metadata": {},
   "outputs": [
    {
     "name": "stdout",
     "output_type": "stream",
     "text": [
      "['nuqui_r1_plot.xlsx', 'clean_nuqui_r1.xlsx', 'DESTINACION_ECONOMICA_CODIGOS.xlsx', 'test1.xlsx']\n"
     ]
    }
   ],
   "source": [
    "nuquiR1.get_file_excel('data', 'test1')\n",
    "print([file for file in os.listdir('data') if '.xlsx' in file])"
   ]
  },
  {
   "cell_type": "markdown",
   "metadata": {},
   "source": [
    "### ***Tablas estadísticas.***"
   ]
  },
  {
   "cell_type": "code",
   "execution_count": 4,
   "metadata": {},
   "outputs": [
    {
     "data": {
      "text/html": [
       "<style type=\"text/css\">\n",
       "#T_7c2a3_row3_col0, #T_7c2a3_row3_col1, #T_7c2a3_row3_col2, #T_7c2a3_row3_col3 {\n",
       "  background-color: green;\n",
       "}\n",
       "</style>\n",
       "<table id=\"T_7c2a3\">\n",
       "  <thead>\n",
       "    <tr>\n",
       "      <th class=\"blank level0\" >&nbsp;</th>\n",
       "      <th id=\"T_7c2a3_level0_col0\" class=\"col_heading level0 col0\" >CANTIDAD_PREDIOS</th>\n",
       "      <th id=\"T_7c2a3_level0_col1\" class=\"col_heading level0 col1\" >AREA_TERRENO</th>\n",
       "      <th id=\"T_7c2a3_level0_col2\" class=\"col_heading level0 col2\" >AREA_CONSTRUIDA</th>\n",
       "      <th id=\"T_7c2a3_level0_col3\" class=\"col_heading level0 col3\" >AVALUO</th>\n",
       "    </tr>\n",
       "    <tr>\n",
       "      <th class=\"index_name level0\" >ZONA</th>\n",
       "      <th class=\"blank col0\" >&nbsp;</th>\n",
       "      <th class=\"blank col1\" >&nbsp;</th>\n",
       "      <th class=\"blank col2\" >&nbsp;</th>\n",
       "      <th class=\"blank col3\" >&nbsp;</th>\n",
       "    </tr>\n",
       "  </thead>\n",
       "  <tbody>\n",
       "    <tr>\n",
       "      <th id=\"T_7c2a3_level0_row0\" class=\"row_heading level0 row0\" >rural</th>\n",
       "      <td id=\"T_7c2a3_row0_col0\" class=\"data row0 col0\" >574</td>\n",
       "      <td id=\"T_7c2a3_row0_col1\" class=\"data row0 col1\" >779,626,892</td>\n",
       "      <td id=\"T_7c2a3_row0_col2\" class=\"data row0 col2\" >12,012</td>\n",
       "      <td id=\"T_7c2a3_row0_col3\" class=\"data row0 col3\" >62,767,119,500</td>\n",
       "    </tr>\n",
       "    <tr>\n",
       "      <th id=\"T_7c2a3_level0_row1\" class=\"row_heading level0 row1\" >corregimiento</th>\n",
       "      <td id=\"T_7c2a3_row1_col0\" class=\"data row1 col0\" >808</td>\n",
       "      <td id=\"T_7c2a3_row1_col1\" class=\"data row1 col1\" >360,754</td>\n",
       "      <td id=\"T_7c2a3_row1_col2\" class=\"data row1 col2\" >40,569</td>\n",
       "      <td id=\"T_7c2a3_row1_col3\" class=\"data row1 col3\" >12,940,798,000</td>\n",
       "    </tr>\n",
       "    <tr>\n",
       "      <th id=\"T_7c2a3_level0_row2\" class=\"row_heading level0 row2\" >urbano</th>\n",
       "      <td id=\"T_7c2a3_row2_col0\" class=\"data row2 col0\" >1,307</td>\n",
       "      <td id=\"T_7c2a3_row2_col1\" class=\"data row2 col1\" >730,955</td>\n",
       "      <td id=\"T_7c2a3_row2_col2\" class=\"data row2 col2\" >83,172</td>\n",
       "      <td id=\"T_7c2a3_row2_col3\" class=\"data row2 col3\" >57,777,422,000</td>\n",
       "    </tr>\n",
       "    <tr>\n",
       "      <th id=\"T_7c2a3_level0_row3\" class=\"row_heading level0 row3\" >TOTALES</th>\n",
       "      <td id=\"T_7c2a3_row3_col0\" class=\"data row3 col0\" >2,689</td>\n",
       "      <td id=\"T_7c2a3_row3_col1\" class=\"data row3 col1\" >780,718,601</td>\n",
       "      <td id=\"T_7c2a3_row3_col2\" class=\"data row3 col2\" >135,753</td>\n",
       "      <td id=\"T_7c2a3_row3_col3\" class=\"data row3 col3\" >133,485,339,500</td>\n",
       "    </tr>\n",
       "  </tbody>\n",
       "</table>\n"
      ],
      "text/plain": [
       "<pandas.io.formats.style.Styler at 0x7f0e581d4130>"
      ]
     },
     "metadata": {},
     "output_type": "display_data"
    },
    {
     "data": {
      "text/html": [
       "<style type=\"text/css\">\n",
       "#T_b648a_row2_col0, #T_b648a_row2_col1, #T_b648a_row2_col2, #T_b648a_row2_col3 {\n",
       "  background-color: green;\n",
       "}\n",
       "</style>\n",
       "<table id=\"T_b648a\">\n",
       "  <thead>\n",
       "    <tr>\n",
       "      <th class=\"blank level0\" >&nbsp;</th>\n",
       "      <th id=\"T_b648a_level0_col0\" class=\"col_heading level0 col0\" >CANTIDAD_PREDIOS</th>\n",
       "      <th id=\"T_b648a_level0_col1\" class=\"col_heading level0 col1\" >AREA_TERRENO</th>\n",
       "      <th id=\"T_b648a_level0_col2\" class=\"col_heading level0 col2\" >AREA_CONSTRUIDA</th>\n",
       "      <th id=\"T_b648a_level0_col3\" class=\"col_heading level0 col3\" >AVALUO</th>\n",
       "    </tr>\n",
       "    <tr>\n",
       "      <th class=\"index_name level0\" >CONDICION_PREDIO</th>\n",
       "      <th class=\"blank col0\" >&nbsp;</th>\n",
       "      <th class=\"blank col1\" >&nbsp;</th>\n",
       "      <th class=\"blank col2\" >&nbsp;</th>\n",
       "      <th class=\"blank col3\" >&nbsp;</th>\n",
       "    </tr>\n",
       "  </thead>\n",
       "  <tbody>\n",
       "    <tr>\n",
       "      <th id=\"T_b648a_level0_row0\" class=\"row_heading level0 row0\" >MejoraPredioAjeno</th>\n",
       "      <td id=\"T_b648a_row0_col0\" class=\"data row0 col0\" >987</td>\n",
       "      <td id=\"T_b648a_row0_col1\" class=\"data row0 col1\" >0</td>\n",
       "      <td id=\"T_b648a_row0_col2\" class=\"data row0 col2\" >74,707</td>\n",
       "      <td id=\"T_b648a_row0_col3\" class=\"data row0 col3\" >3,191,003,000</td>\n",
       "    </tr>\n",
       "    <tr>\n",
       "      <th id=\"T_b648a_level0_row1\" class=\"row_heading level0 row1\" >NoRegPH</th>\n",
       "      <td id=\"T_b648a_row1_col0\" class=\"data row1 col0\" >1,702</td>\n",
       "      <td id=\"T_b648a_row1_col1\" class=\"data row1 col1\" >780,718,601</td>\n",
       "      <td id=\"T_b648a_row1_col2\" class=\"data row1 col2\" >61,046</td>\n",
       "      <td id=\"T_b648a_row1_col3\" class=\"data row1 col3\" >130,294,336,500</td>\n",
       "    </tr>\n",
       "    <tr>\n",
       "      <th id=\"T_b648a_level0_row2\" class=\"row_heading level0 row2\" >TOTALES</th>\n",
       "      <td id=\"T_b648a_row2_col0\" class=\"data row2 col0\" >2,689</td>\n",
       "      <td id=\"T_b648a_row2_col1\" class=\"data row2 col1\" >780,718,601</td>\n",
       "      <td id=\"T_b648a_row2_col2\" class=\"data row2 col2\" >135,753</td>\n",
       "      <td id=\"T_b648a_row2_col3\" class=\"data row2 col3\" >133,485,339,500</td>\n",
       "    </tr>\n",
       "  </tbody>\n",
       "</table>\n"
      ],
      "text/plain": [
       "<pandas.io.formats.style.Styler at 0x7f0e582491f0>"
      ]
     },
     "metadata": {},
     "output_type": "display_data"
    },
    {
     "data": {
      "text/html": [
       "<style type=\"text/css\">\n",
       "#T_bbe1d_row17_col0, #T_bbe1d_row17_col1, #T_bbe1d_row17_col2, #T_bbe1d_row17_col3 {\n",
       "  background-color: green;\n",
       "}\n",
       "</style>\n",
       "<table id=\"T_bbe1d\">\n",
       "  <thead>\n",
       "    <tr>\n",
       "      <th class=\"blank level0\" >&nbsp;</th>\n",
       "      <th id=\"T_bbe1d_level0_col0\" class=\"col_heading level0 col0\" >CANTIDAD_PREDIOS</th>\n",
       "      <th id=\"T_bbe1d_level0_col1\" class=\"col_heading level0 col1\" >AREA_TERRENO</th>\n",
       "      <th id=\"T_bbe1d_level0_col2\" class=\"col_heading level0 col2\" >AREA_CONSTRUIDA</th>\n",
       "      <th id=\"T_bbe1d_level0_col3\" class=\"col_heading level0 col3\" >AVALUO</th>\n",
       "    </tr>\n",
       "    <tr>\n",
       "      <th class=\"index_name level0\" >DESTINO_ECONOMICO</th>\n",
       "      <th class=\"blank col0\" >&nbsp;</th>\n",
       "      <th class=\"blank col1\" >&nbsp;</th>\n",
       "      <th class=\"blank col2\" >&nbsp;</th>\n",
       "      <th class=\"blank col3\" >&nbsp;</th>\n",
       "    </tr>\n",
       "  </thead>\n",
       "  <tbody>\n",
       "    <tr>\n",
       "      <th id=\"T_bbe1d_level0_row0\" class=\"row_heading level0 row0\" >Cultural</th>\n",
       "      <td id=\"T_bbe1d_row0_col0\" class=\"data row0 col0\" >1</td>\n",
       "      <td id=\"T_bbe1d_row0_col1\" class=\"data row0 col1\" >371</td>\n",
       "      <td id=\"T_bbe1d_row0_col2\" class=\"data row0 col2\" >108</td>\n",
       "      <td id=\"T_bbe1d_row0_col3\" class=\"data row0 col3\" >65,999,000</td>\n",
       "    </tr>\n",
       "    <tr>\n",
       "      <th id=\"T_bbe1d_level0_row1\" class=\"row_heading level0 row1\" >Recreacional</th>\n",
       "      <td id=\"T_bbe1d_row1_col0\" class=\"data row1 col0\" >1</td>\n",
       "      <td id=\"T_bbe1d_row1_col1\" class=\"data row1 col1\" >1,145</td>\n",
       "      <td id=\"T_bbe1d_row1_col2\" class=\"data row1 col2\" >0</td>\n",
       "      <td id=\"T_bbe1d_row1_col3\" class=\"data row1 col3\" >52,218,000</td>\n",
       "    </tr>\n",
       "    <tr>\n",
       "      <th id=\"T_bbe1d_level0_row2\" class=\"row_heading level0 row2\" >Lote No Urbanizable</th>\n",
       "      <td id=\"T_bbe1d_row2_col0\" class=\"data row2 col0\" >2</td>\n",
       "      <td id=\"T_bbe1d_row2_col1\" class=\"data row2 col1\" >286,120</td>\n",
       "      <td id=\"T_bbe1d_row2_col2\" class=\"data row2 col2\" >0</td>\n",
       "      <td id=\"T_bbe1d_row2_col3\" class=\"data row2 col3\" >2,555,217,000</td>\n",
       "    </tr>\n",
       "    <tr>\n",
       "      <th id=\"T_bbe1d_level0_row3\" class=\"row_heading level0 row3\" >Forestal</th>\n",
       "      <td id=\"T_bbe1d_row3_col0\" class=\"data row3 col0\" >3</td>\n",
       "      <td id=\"T_bbe1d_row3_col1\" class=\"data row3 col1\" >169,624,742</td>\n",
       "      <td id=\"T_bbe1d_row3_col2\" class=\"data row3 col2\" >0</td>\n",
       "      <td id=\"T_bbe1d_row3_col3\" class=\"data row3 col3\" >11,301,371,000</td>\n",
       "    </tr>\n",
       "    <tr>\n",
       "      <th id=\"T_bbe1d_level0_row4\" class=\"row_heading level0 row4\" >Pecuario</th>\n",
       "      <td id=\"T_bbe1d_row4_col0\" class=\"data row4 col0\" >3</td>\n",
       "      <td id=\"T_bbe1d_row4_col1\" class=\"data row4 col1\" >109</td>\n",
       "      <td id=\"T_bbe1d_row4_col2\" class=\"data row4 col2\" >28</td>\n",
       "      <td id=\"T_bbe1d_row4_col3\" class=\"data row4 col3\" >12,799,000</td>\n",
       "    </tr>\n",
       "    <tr>\n",
       "      <th id=\"T_bbe1d_level0_row5\" class=\"row_heading level0 row5\" >Servicios Especiales</th>\n",
       "      <td id=\"T_bbe1d_row5_col0\" class=\"data row5 col0\" >4</td>\n",
       "      <td id=\"T_bbe1d_row5_col1\" class=\"data row5 col1\" >8,265</td>\n",
       "      <td id=\"T_bbe1d_row5_col2\" class=\"data row5 col2\" >20</td>\n",
       "      <td id=\"T_bbe1d_row5_col3\" class=\"data row5 col3\" >8,930,000</td>\n",
       "    </tr>\n",
       "    <tr>\n",
       "      <th id=\"T_bbe1d_level0_row6\" class=\"row_heading level0 row6\" >Uso Público</th>\n",
       "      <td id=\"T_bbe1d_row6_col0\" class=\"data row6 col0\" >4</td>\n",
       "      <td id=\"T_bbe1d_row6_col1\" class=\"data row6 col1\" >59,053</td>\n",
       "      <td id=\"T_bbe1d_row6_col2\" class=\"data row6 col2\" >880</td>\n",
       "      <td id=\"T_bbe1d_row6_col3\" class=\"data row6 col3\" >6,842,368,000</td>\n",
       "    </tr>\n",
       "    <tr>\n",
       "      <th id=\"T_bbe1d_level0_row7\" class=\"row_heading level0 row7\" >Salubridad</th>\n",
       "      <td id=\"T_bbe1d_row7_col0\" class=\"data row7 col0\" >5</td>\n",
       "      <td id=\"T_bbe1d_row7_col1\" class=\"data row7 col1\" >189</td>\n",
       "      <td id=\"T_bbe1d_row7_col2\" class=\"data row7 col2\" >359</td>\n",
       "      <td id=\"T_bbe1d_row7_col3\" class=\"data row7 col3\" >48,666,000</td>\n",
       "    </tr>\n",
       "    <tr>\n",
       "      <th id=\"T_bbe1d_level0_row8\" class=\"row_heading level0 row8\" >Religioso</th>\n",
       "      <td id=\"T_bbe1d_row8_col0\" class=\"data row8 col0\" >6</td>\n",
       "      <td id=\"T_bbe1d_row8_col1\" class=\"data row8 col1\" >678</td>\n",
       "      <td id=\"T_bbe1d_row8_col2\" class=\"data row8 col2\" >940</td>\n",
       "      <td id=\"T_bbe1d_row8_col3\" class=\"data row8 col3\" >97,356,000</td>\n",
       "    </tr>\n",
       "    <tr>\n",
       "      <th id=\"T_bbe1d_level0_row9\" class=\"row_heading level0 row9\" >Educativo</th>\n",
       "      <td id=\"T_bbe1d_row9_col0\" class=\"data row9 col0\" >10</td>\n",
       "      <td id=\"T_bbe1d_row9_col1\" class=\"data row9 col1\" >20,408</td>\n",
       "      <td id=\"T_bbe1d_row9_col2\" class=\"data row9 col2\" >3,571</td>\n",
       "      <td id=\"T_bbe1d_row9_col3\" class=\"data row9 col3\" >2,679,192,000</td>\n",
       "    </tr>\n",
       "    <tr>\n",
       "      <th id=\"T_bbe1d_level0_row10\" class=\"row_heading level0 row10\" >Institucional</th>\n",
       "      <td id=\"T_bbe1d_row10_col0\" class=\"data row10 col0\" >11</td>\n",
       "      <td id=\"T_bbe1d_row10_col1\" class=\"data row10 col1\" >20,221</td>\n",
       "      <td id=\"T_bbe1d_row10_col2\" class=\"data row10 col2\" >3,888</td>\n",
       "      <td id=\"T_bbe1d_row10_col3\" class=\"data row10 col3\" >3,359,114,000</td>\n",
       "    </tr>\n",
       "    <tr>\n",
       "      <th id=\"T_bbe1d_level0_row11\" class=\"row_heading level0 row11\" >Lote urbanizado no construido o edificado</th>\n",
       "      <td id=\"T_bbe1d_row11_col0\" class=\"data row11 col0\" >44</td>\n",
       "      <td id=\"T_bbe1d_row11_col1\" class=\"data row11 col1\" >123,839</td>\n",
       "      <td id=\"T_bbe1d_row11_col2\" class=\"data row11 col2\" >544</td>\n",
       "      <td id=\"T_bbe1d_row11_col3\" class=\"data row11 col3\" >4,968,898,000</td>\n",
       "    </tr>\n",
       "    <tr>\n",
       "      <th id=\"T_bbe1d_level0_row12\" class=\"row_heading level0 row12\" >No especificado</th>\n",
       "      <td id=\"T_bbe1d_row12_col0\" class=\"data row12 col0\" >46</td>\n",
       "      <td id=\"T_bbe1d_row12_col1\" class=\"data row12 col1\" >10,389</td>\n",
       "      <td id=\"T_bbe1d_row12_col2\" class=\"data row12 col2\" >2,156</td>\n",
       "      <td id=\"T_bbe1d_row12_col3\" class=\"data row12 col3\" >1,474,133,000</td>\n",
       "    </tr>\n",
       "    <tr>\n",
       "      <th id=\"T_bbe1d_level0_row13\" class=\"row_heading level0 row13\" >Comercial</th>\n",
       "      <td id=\"T_bbe1d_row13_col0\" class=\"data row13 col0\" >48</td>\n",
       "      <td id=\"T_bbe1d_row13_col1\" class=\"data row13 col1\" >8,387</td>\n",
       "      <td id=\"T_bbe1d_row13_col2\" class=\"data row13 col2\" >5,829</td>\n",
       "      <td id=\"T_bbe1d_row13_col3\" class=\"data row13 col3\" >1,086,894,000</td>\n",
       "    </tr>\n",
       "    <tr>\n",
       "      <th id=\"T_bbe1d_level0_row14\" class=\"row_heading level0 row14\" >Lote urbanizable no urbanizado</th>\n",
       "      <td id=\"T_bbe1d_row14_col0\" class=\"data row14 col0\" >87</td>\n",
       "      <td id=\"T_bbe1d_row14_col1\" class=\"data row14 col1\" >1,982,840</td>\n",
       "      <td id=\"T_bbe1d_row14_col2\" class=\"data row14 col2\" >12,439</td>\n",
       "      <td id=\"T_bbe1d_row14_col3\" class=\"data row14 col3\" >6,856,138,000</td>\n",
       "    </tr>\n",
       "    <tr>\n",
       "      <th id=\"T_bbe1d_level0_row15\" class=\"row_heading level0 row15\" >Agropecuario</th>\n",
       "      <td id=\"T_bbe1d_row15_col0\" class=\"data row15 col0\" >482</td>\n",
       "      <td id=\"T_bbe1d_row15_col1\" class=\"data row15 col1\" >607,911,209</td>\n",
       "      <td id=\"T_bbe1d_row15_col2\" class=\"data row15 col2\" >517</td>\n",
       "      <td id=\"T_bbe1d_row15_col3\" class=\"data row15 col3\" >47,105,030,500</td>\n",
       "    </tr>\n",
       "    <tr>\n",
       "      <th id=\"T_bbe1d_level0_row16\" class=\"row_heading level0 row16\" >Habitacional</th>\n",
       "      <td id=\"T_bbe1d_row16_col0\" class=\"data row16 col0\" >1,932</td>\n",
       "      <td id=\"T_bbe1d_row16_col1\" class=\"data row16 col1\" >660,636</td>\n",
       "      <td id=\"T_bbe1d_row16_col2\" class=\"data row16 col2\" >104,474</td>\n",
       "      <td id=\"T_bbe1d_row16_col3\" class=\"data row16 col3\" >44,971,016,000</td>\n",
       "    </tr>\n",
       "    <tr>\n",
       "      <th id=\"T_bbe1d_level0_row17\" class=\"row_heading level0 row17\" >TOTALES</th>\n",
       "      <td id=\"T_bbe1d_row17_col0\" class=\"data row17 col0\" >2,689</td>\n",
       "      <td id=\"T_bbe1d_row17_col1\" class=\"data row17 col1\" >780,718,601</td>\n",
       "      <td id=\"T_bbe1d_row17_col2\" class=\"data row17 col2\" >135,753</td>\n",
       "      <td id=\"T_bbe1d_row17_col3\" class=\"data row17 col3\" >133,485,339,500</td>\n",
       "    </tr>\n",
       "  </tbody>\n",
       "</table>\n"
      ],
      "text/plain": [
       "<pandas.io.formats.style.Styler at 0x7f0e58202be0>"
      ]
     },
     "metadata": {},
     "output_type": "display_data"
    }
   ],
   "source": [
    "nuquiR1.get_statistical_table('ZONA')\n",
    "nuquiR1.get_statistical_table('CONDICION_PREDIO')\n",
    "nuquiR1.get_statistical_table('DESTINO_ECONOMICO')"
   ]
  },
  {
   "cell_type": "markdown",
   "metadata": {},
   "source": [
    "### ***Un plot de descriptivos.***"
   ]
  },
  {
   "cell_type": "code",
   "execution_count": 5,
   "metadata": {},
   "outputs": [
    {
     "data": {
      "application/vnd.plotly.v1+json": {
       "config": {
        "plotlyServerURL": "https://plot.ly"
       },
       "data": [
        {
         "name": "Total Área Construida",
         "type": "bar",
         "x": [
          "Comercial",
          "Educativo",
          "Habitacional",
          "Institucional",
          "Lote urbanizable no urbanizado",
          "Lote urbanizado no construido o edificado",
          "No especificado",
          "Pecuario",
          "Religioso",
          "Salubridad",
          "Servicios Especiales",
          "Uso Público"
         ],
         "xaxis": "x",
         "y": [
          2076,
          284,
          70289,
          220,
          206,
          21,
          679,
          28,
          567,
          252,
          20,
          65
         ],
         "yaxis": "y"
        },
        {
         "name": "Total Área Construida",
         "type": "bar",
         "x": [
          "Agropecuario",
          "Comercial",
          "Cultural",
          "Educativo",
          "Forestal",
          "Habitacional",
          "Institucional",
          "Lote No Urbanizable",
          "Lote urbanizable no urbanizado",
          "Lote urbanizado no construido o edificado",
          "No especificado",
          "Pecuario",
          "Recreacional",
          "Religioso",
          "Salubridad",
          "Servicios Especiales",
          "Uso Público"
         ],
         "xaxis": "x",
         "y": [
          517,
          3753,
          108,
          3287,
          0,
          34185,
          3668,
          0,
          12233,
          523,
          1477,
          0,
          0,
          373,
          107,
          0,
          815
         ],
         "yaxis": "y"
        },
        {
         "name": "Total Área Terreno",
         "type": "bar",
         "x": [
          "Comercial",
          "Educativo",
          "Habitacional",
          "Institucional",
          "Lote urbanizable no urbanizado",
          "Lote urbanizado no construido o edificado",
          "No especificado",
          "Pecuario",
          "Religioso",
          "Salubridad",
          "Servicios Especiales",
          "Uso Público"
         ],
         "xaxis": "x",
         "y": [
          0,
          0,
          0,
          0,
          0,
          0,
          0,
          0,
          0,
          0,
          0,
          0
         ],
         "yaxis": "y"
        },
        {
         "name": "Total Área Terreno",
         "type": "bar",
         "x": [
          "Agropecuario",
          "Comercial",
          "Cultural",
          "Educativo",
          "Forestal",
          "Habitacional",
          "Institucional",
          "Lote No Urbanizable",
          "Lote urbanizable no urbanizado",
          "Lote urbanizado no construido o edificado",
          "No especificado",
          "Pecuario",
          "Recreacional",
          "Religioso",
          "Salubridad",
          "Servicios Especiales",
          "Uso Público"
         ],
         "xaxis": "x",
         "y": [
          607911209,
          8387,
          371,
          20408,
          169624742,
          660636,
          20221,
          286120,
          1982840,
          123839,
          10389,
          109,
          1145,
          678,
          189,
          8265,
          59053
         ],
         "yaxis": "y"
        },
        {
         "name": "Total Avalúo",
         "type": "bar",
         "x": [
          "Comercial",
          "Educativo",
          "Habitacional",
          "Institucional",
          "Lote urbanizable no urbanizado",
          "Lote urbanizado no construido o edificado",
          "No especificado",
          "Pecuario",
          "Religioso",
          "Salubridad",
          "Servicios Especiales",
          "Uso Público"
         ],
         "xaxis": "x",
         "y": [
          189072000,
          18675000,
          2869369000,
          20044000,
          7592000,
          302000,
          23124000,
          887000,
          39385000,
          19505000,
          664000,
          2384000
         ],
         "yaxis": "y"
        },
        {
         "name": "Total Avalúo",
         "type": "bar",
         "x": [
          "Agropecuario",
          "Comercial",
          "Cultural",
          "Educativo",
          "Forestal",
          "Habitacional",
          "Institucional",
          "Lote No Urbanizable",
          "Lote urbanizable no urbanizado",
          "Lote urbanizado no construido o edificado",
          "No especificado",
          "Pecuario",
          "Recreacional",
          "Religioso",
          "Salubridad",
          "Servicios Especiales",
          "Uso Público"
         ],
         "xaxis": "x",
         "y": [
          47105030500,
          897822000,
          65999000,
          2660517000,
          11301371000,
          42101647000,
          3339070000,
          2555217000,
          6848546000,
          4968596000,
          1451009000,
          11912000,
          52218000,
          57971000,
          29161000,
          8266000,
          6839984000
         ],
         "yaxis": "y"
        },
        {
         "name": "Cantidad",
         "type": "bar",
         "x": [
          "Comercial",
          "Educativo",
          "Habitacional",
          "Institucional",
          "Lote urbanizable no urbanizado",
          "Lote urbanizado no construido o edificado",
          "No especificado",
          "Pecuario",
          "Religioso",
          "Salubridad",
          "Servicios Especiales",
          "Uso Público"
         ],
         "xaxis": "x",
         "y": [
          15,
          3,
          945,
          2,
          2,
          1,
          9,
          1,
          4,
          3,
          1,
          1
         ],
         "yaxis": "y"
        },
        {
         "name": "Cantidad",
         "type": "bar",
         "x": [
          "Agropecuario",
          "Comercial",
          "Cultural",
          "Educativo",
          "Forestal",
          "Habitacional",
          "Institucional",
          "Lote No Urbanizable",
          "Lote urbanizable no urbanizado",
          "Lote urbanizado no construido o edificado",
          "No especificado",
          "Pecuario",
          "Recreacional",
          "Religioso",
          "Salubridad",
          "Servicios Especiales",
          "Uso Público"
         ],
         "xaxis": "x",
         "y": [
          482,
          33,
          1,
          7,
          3,
          987,
          9,
          2,
          85,
          43,
          37,
          2,
          1,
          2,
          2,
          3,
          3
         ],
         "yaxis": "y"
        }
       ],
       "layout": {
        "template": {
         "data": {
          "bar": [
           {
            "error_x": {
             "color": "#f2f5fa"
            },
            "error_y": {
             "color": "#f2f5fa"
            },
            "marker": {
             "line": {
              "color": "rgb(17,17,17)",
              "width": 0.5
             },
             "pattern": {
              "fillmode": "overlay",
              "size": 10,
              "solidity": 0.2
             }
            },
            "type": "bar"
           }
          ],
          "barpolar": [
           {
            "marker": {
             "line": {
              "color": "rgb(17,17,17)",
              "width": 0.5
             },
             "pattern": {
              "fillmode": "overlay",
              "size": 10,
              "solidity": 0.2
             }
            },
            "type": "barpolar"
           }
          ],
          "carpet": [
           {
            "aaxis": {
             "endlinecolor": "#A2B1C6",
             "gridcolor": "#506784",
             "linecolor": "#506784",
             "minorgridcolor": "#506784",
             "startlinecolor": "#A2B1C6"
            },
            "baxis": {
             "endlinecolor": "#A2B1C6",
             "gridcolor": "#506784",
             "linecolor": "#506784",
             "minorgridcolor": "#506784",
             "startlinecolor": "#A2B1C6"
            },
            "type": "carpet"
           }
          ],
          "choropleth": [
           {
            "colorbar": {
             "outlinewidth": 0,
             "ticks": ""
            },
            "type": "choropleth"
           }
          ],
          "contour": [
           {
            "colorbar": {
             "outlinewidth": 0,
             "ticks": ""
            },
            "colorscale": [
             [
              0,
              "#0d0887"
             ],
             [
              0.1111111111111111,
              "#46039f"
             ],
             [
              0.2222222222222222,
              "#7201a8"
             ],
             [
              0.3333333333333333,
              "#9c179e"
             ],
             [
              0.4444444444444444,
              "#bd3786"
             ],
             [
              0.5555555555555556,
              "#d8576b"
             ],
             [
              0.6666666666666666,
              "#ed7953"
             ],
             [
              0.7777777777777778,
              "#fb9f3a"
             ],
             [
              0.8888888888888888,
              "#fdca26"
             ],
             [
              1,
              "#f0f921"
             ]
            ],
            "type": "contour"
           }
          ],
          "contourcarpet": [
           {
            "colorbar": {
             "outlinewidth": 0,
             "ticks": ""
            },
            "type": "contourcarpet"
           }
          ],
          "heatmap": [
           {
            "colorbar": {
             "outlinewidth": 0,
             "ticks": ""
            },
            "colorscale": [
             [
              0,
              "#0d0887"
             ],
             [
              0.1111111111111111,
              "#46039f"
             ],
             [
              0.2222222222222222,
              "#7201a8"
             ],
             [
              0.3333333333333333,
              "#9c179e"
             ],
             [
              0.4444444444444444,
              "#bd3786"
             ],
             [
              0.5555555555555556,
              "#d8576b"
             ],
             [
              0.6666666666666666,
              "#ed7953"
             ],
             [
              0.7777777777777778,
              "#fb9f3a"
             ],
             [
              0.8888888888888888,
              "#fdca26"
             ],
             [
              1,
              "#f0f921"
             ]
            ],
            "type": "heatmap"
           }
          ],
          "heatmapgl": [
           {
            "colorbar": {
             "outlinewidth": 0,
             "ticks": ""
            },
            "colorscale": [
             [
              0,
              "#0d0887"
             ],
             [
              0.1111111111111111,
              "#46039f"
             ],
             [
              0.2222222222222222,
              "#7201a8"
             ],
             [
              0.3333333333333333,
              "#9c179e"
             ],
             [
              0.4444444444444444,
              "#bd3786"
             ],
             [
              0.5555555555555556,
              "#d8576b"
             ],
             [
              0.6666666666666666,
              "#ed7953"
             ],
             [
              0.7777777777777778,
              "#fb9f3a"
             ],
             [
              0.8888888888888888,
              "#fdca26"
             ],
             [
              1,
              "#f0f921"
             ]
            ],
            "type": "heatmapgl"
           }
          ],
          "histogram": [
           {
            "marker": {
             "pattern": {
              "fillmode": "overlay",
              "size": 10,
              "solidity": 0.2
             }
            },
            "type": "histogram"
           }
          ],
          "histogram2d": [
           {
            "colorbar": {
             "outlinewidth": 0,
             "ticks": ""
            },
            "colorscale": [
             [
              0,
              "#0d0887"
             ],
             [
              0.1111111111111111,
              "#46039f"
             ],
             [
              0.2222222222222222,
              "#7201a8"
             ],
             [
              0.3333333333333333,
              "#9c179e"
             ],
             [
              0.4444444444444444,
              "#bd3786"
             ],
             [
              0.5555555555555556,
              "#d8576b"
             ],
             [
              0.6666666666666666,
              "#ed7953"
             ],
             [
              0.7777777777777778,
              "#fb9f3a"
             ],
             [
              0.8888888888888888,
              "#fdca26"
             ],
             [
              1,
              "#f0f921"
             ]
            ],
            "type": "histogram2d"
           }
          ],
          "histogram2dcontour": [
           {
            "colorbar": {
             "outlinewidth": 0,
             "ticks": ""
            },
            "colorscale": [
             [
              0,
              "#0d0887"
             ],
             [
              0.1111111111111111,
              "#46039f"
             ],
             [
              0.2222222222222222,
              "#7201a8"
             ],
             [
              0.3333333333333333,
              "#9c179e"
             ],
             [
              0.4444444444444444,
              "#bd3786"
             ],
             [
              0.5555555555555556,
              "#d8576b"
             ],
             [
              0.6666666666666666,
              "#ed7953"
             ],
             [
              0.7777777777777778,
              "#fb9f3a"
             ],
             [
              0.8888888888888888,
              "#fdca26"
             ],
             [
              1,
              "#f0f921"
             ]
            ],
            "type": "histogram2dcontour"
           }
          ],
          "mesh3d": [
           {
            "colorbar": {
             "outlinewidth": 0,
             "ticks": ""
            },
            "type": "mesh3d"
           }
          ],
          "parcoords": [
           {
            "line": {
             "colorbar": {
              "outlinewidth": 0,
              "ticks": ""
             }
            },
            "type": "parcoords"
           }
          ],
          "pie": [
           {
            "automargin": true,
            "type": "pie"
           }
          ],
          "scatter": [
           {
            "marker": {
             "line": {
              "color": "#283442"
             }
            },
            "type": "scatter"
           }
          ],
          "scatter3d": [
           {
            "line": {
             "colorbar": {
              "outlinewidth": 0,
              "ticks": ""
             }
            },
            "marker": {
             "colorbar": {
              "outlinewidth": 0,
              "ticks": ""
             }
            },
            "type": "scatter3d"
           }
          ],
          "scattercarpet": [
           {
            "marker": {
             "colorbar": {
              "outlinewidth": 0,
              "ticks": ""
             }
            },
            "type": "scattercarpet"
           }
          ],
          "scattergeo": [
           {
            "marker": {
             "colorbar": {
              "outlinewidth": 0,
              "ticks": ""
             }
            },
            "type": "scattergeo"
           }
          ],
          "scattergl": [
           {
            "marker": {
             "line": {
              "color": "#283442"
             }
            },
            "type": "scattergl"
           }
          ],
          "scattermapbox": [
           {
            "marker": {
             "colorbar": {
              "outlinewidth": 0,
              "ticks": ""
             }
            },
            "type": "scattermapbox"
           }
          ],
          "scatterpolar": [
           {
            "marker": {
             "colorbar": {
              "outlinewidth": 0,
              "ticks": ""
             }
            },
            "type": "scatterpolar"
           }
          ],
          "scatterpolargl": [
           {
            "marker": {
             "colorbar": {
              "outlinewidth": 0,
              "ticks": ""
             }
            },
            "type": "scatterpolargl"
           }
          ],
          "scatterternary": [
           {
            "marker": {
             "colorbar": {
              "outlinewidth": 0,
              "ticks": ""
             }
            },
            "type": "scatterternary"
           }
          ],
          "surface": [
           {
            "colorbar": {
             "outlinewidth": 0,
             "ticks": ""
            },
            "colorscale": [
             [
              0,
              "#0d0887"
             ],
             [
              0.1111111111111111,
              "#46039f"
             ],
             [
              0.2222222222222222,
              "#7201a8"
             ],
             [
              0.3333333333333333,
              "#9c179e"
             ],
             [
              0.4444444444444444,
              "#bd3786"
             ],
             [
              0.5555555555555556,
              "#d8576b"
             ],
             [
              0.6666666666666666,
              "#ed7953"
             ],
             [
              0.7777777777777778,
              "#fb9f3a"
             ],
             [
              0.8888888888888888,
              "#fdca26"
             ],
             [
              1,
              "#f0f921"
             ]
            ],
            "type": "surface"
           }
          ],
          "table": [
           {
            "cells": {
             "fill": {
              "color": "#506784"
             },
             "line": {
              "color": "rgb(17,17,17)"
             }
            },
            "header": {
             "fill": {
              "color": "#2a3f5f"
             },
             "line": {
              "color": "rgb(17,17,17)"
             }
            },
            "type": "table"
           }
          ]
         },
         "layout": {
          "annotationdefaults": {
           "arrowcolor": "#f2f5fa",
           "arrowhead": 0,
           "arrowwidth": 1
          },
          "autotypenumbers": "strict",
          "coloraxis": {
           "colorbar": {
            "outlinewidth": 0,
            "ticks": ""
           }
          },
          "colorscale": {
           "diverging": [
            [
             0,
             "#8e0152"
            ],
            [
             0.1,
             "#c51b7d"
            ],
            [
             0.2,
             "#de77ae"
            ],
            [
             0.3,
             "#f1b6da"
            ],
            [
             0.4,
             "#fde0ef"
            ],
            [
             0.5,
             "#f7f7f7"
            ],
            [
             0.6,
             "#e6f5d0"
            ],
            [
             0.7,
             "#b8e186"
            ],
            [
             0.8,
             "#7fbc41"
            ],
            [
             0.9,
             "#4d9221"
            ],
            [
             1,
             "#276419"
            ]
           ],
           "sequential": [
            [
             0,
             "#0d0887"
            ],
            [
             0.1111111111111111,
             "#46039f"
            ],
            [
             0.2222222222222222,
             "#7201a8"
            ],
            [
             0.3333333333333333,
             "#9c179e"
            ],
            [
             0.4444444444444444,
             "#bd3786"
            ],
            [
             0.5555555555555556,
             "#d8576b"
            ],
            [
             0.6666666666666666,
             "#ed7953"
            ],
            [
             0.7777777777777778,
             "#fb9f3a"
            ],
            [
             0.8888888888888888,
             "#fdca26"
            ],
            [
             1,
             "#f0f921"
            ]
           ],
           "sequentialminus": [
            [
             0,
             "#0d0887"
            ],
            [
             0.1111111111111111,
             "#46039f"
            ],
            [
             0.2222222222222222,
             "#7201a8"
            ],
            [
             0.3333333333333333,
             "#9c179e"
            ],
            [
             0.4444444444444444,
             "#bd3786"
            ],
            [
             0.5555555555555556,
             "#d8576b"
            ],
            [
             0.6666666666666666,
             "#ed7953"
            ],
            [
             0.7777777777777778,
             "#fb9f3a"
            ],
            [
             0.8888888888888888,
             "#fdca26"
            ],
            [
             1,
             "#f0f921"
            ]
           ]
          },
          "colorway": [
           "#636efa",
           "#EF553B",
           "#00cc96",
           "#ab63fa",
           "#FFA15A",
           "#19d3f3",
           "#FF6692",
           "#B6E880",
           "#FF97FF",
           "#FECB52"
          ],
          "font": {
           "color": "#f2f5fa"
          },
          "geo": {
           "bgcolor": "rgb(17,17,17)",
           "lakecolor": "rgb(17,17,17)",
           "landcolor": "rgb(17,17,17)",
           "showlakes": true,
           "showland": true,
           "subunitcolor": "#506784"
          },
          "hoverlabel": {
           "align": "left"
          },
          "hovermode": "closest",
          "mapbox": {
           "style": "dark"
          },
          "paper_bgcolor": "rgb(17,17,17)",
          "plot_bgcolor": "rgb(17,17,17)",
          "polar": {
           "angularaxis": {
            "gridcolor": "#506784",
            "linecolor": "#506784",
            "ticks": ""
           },
           "bgcolor": "rgb(17,17,17)",
           "radialaxis": {
            "gridcolor": "#506784",
            "linecolor": "#506784",
            "ticks": ""
           }
          },
          "scene": {
           "xaxis": {
            "backgroundcolor": "rgb(17,17,17)",
            "gridcolor": "#506784",
            "gridwidth": 2,
            "linecolor": "#506784",
            "showbackground": true,
            "ticks": "",
            "zerolinecolor": "#C8D4E3"
           },
           "yaxis": {
            "backgroundcolor": "rgb(17,17,17)",
            "gridcolor": "#506784",
            "gridwidth": 2,
            "linecolor": "#506784",
            "showbackground": true,
            "ticks": "",
            "zerolinecolor": "#C8D4E3"
           },
           "zaxis": {
            "backgroundcolor": "rgb(17,17,17)",
            "gridcolor": "#506784",
            "gridwidth": 2,
            "linecolor": "#506784",
            "showbackground": true,
            "ticks": "",
            "zerolinecolor": "#C8D4E3"
           }
          },
          "shapedefaults": {
           "line": {
            "color": "#f2f5fa"
           }
          },
          "sliderdefaults": {
           "bgcolor": "#C8D4E3",
           "bordercolor": "rgb(17,17,17)",
           "borderwidth": 1,
           "tickwidth": 0
          },
          "ternary": {
           "aaxis": {
            "gridcolor": "#506784",
            "linecolor": "#506784",
            "ticks": ""
           },
           "baxis": {
            "gridcolor": "#506784",
            "linecolor": "#506784",
            "ticks": ""
           },
           "bgcolor": "rgb(17,17,17)",
           "caxis": {
            "gridcolor": "#506784",
            "linecolor": "#506784",
            "ticks": ""
           }
          },
          "title": {
           "x": 0.05
          },
          "updatemenudefaults": {
           "bgcolor": "#506784",
           "borderwidth": 0
          },
          "xaxis": {
           "automargin": true,
           "gridcolor": "#283442",
           "linecolor": "#506784",
           "ticks": "",
           "title": {
            "standoff": 15
           },
           "zerolinecolor": "#283442",
           "zerolinewidth": 2
          },
          "yaxis": {
           "automargin": true,
           "gridcolor": "#283442",
           "linecolor": "#506784",
           "ticks": "",
           "title": {
            "standoff": 15
           },
           "zerolinecolor": "#283442",
           "zerolinewidth": 2
          }
         }
        },
        "title": {
         "font": {
          "family": "Ubuntu",
          "size": 35
         },
         "text": "Descriptivos base catastral R1"
        },
        "updatemenus": [
         {
          "active": 0,
          "buttons": [
           {
            "args": [
             {
              "visible": [
               true,
               false
              ]
             }
            ],
            "label": "MejoraPredioAjeno",
            "method": "update"
           },
           {
            "args": [
             {
              "visible": [
               false,
               true
              ]
             }
            ],
            "label": "NoRegPH",
            "method": "update"
           }
          ],
          "direction": "down",
          "font": {
           "color": "orange"
          },
          "showactive": true,
          "x": 1.21,
          "y": 0.1
         }
        ],
        "xaxis": {
         "anchor": "y",
         "domain": [
          0,
          1
         ]
        },
        "yaxis": {
         "anchor": "x",
         "domain": [
          0,
          1
         ]
        }
       }
      }
     },
     "metadata": {},
     "output_type": "display_data"
    }
   ],
   "source": [
    "nuquiR1.get_statistical_plot()"
   ]
  },
  {
   "cell_type": "markdown",
   "metadata": {},
   "source": [
    "## ***Plots Base R1.***\n",
    "\n",
    "***¿Qué se debe conocer en las tablas R1?***\n",
    "\n",
    "Vamos a pensar en que información deseamos conocer: \n",
    "\n",
    "1. Cantidad de predios con área mayor de una hectarea. NO SE REALIZÓ.\n",
    "2. Cantidad de predios urbanos y rurales. YA\n",
    "3. Cantidad de predios agregado por destino económico y condición de predio. YA\n",
    "4. Total avalúo, agredado por zonas del municipio. YA\n",
    "5. Estadísticas básicas: Tendencia de los valores de los precios teniendo en cuentas los destinos económicos. NO HAY HISTÓRICO\n",
    "6. Interesaría saber los predios de mayor avalúo dentro de determinada zona de un municipio, junto con su tendencia. NO HAY HISTÓRICO\n",
    "7. \n",
    "9. \n",
    "10. "
   ]
  },
  {
   "attachments": {},
   "cell_type": "markdown",
   "metadata": {},
   "source": [
    "---\n",
    "\n",
    "## ***Conclusiones.***\n",
    "\n",
    "---\n",
    "\n",
    "Colocamos en un solo artefacto (`class en python`) todo el procesamiento desarrollado en las primeras lecturas, agregamos informaciones descriptivas de caracter tabular y gráfico. La idea central es: `make it easy`. Piense si puede automatizar su trabajo y ponga en marcha esa idea...\n",
    "\n",
    "---\n"
   ]
  }
 ],
 "metadata": {
  "kernelspec": {
   "display_name": "Python 3 (ipykernel)",
   "language": "python",
   "name": "python3"
  },
  "language_info": {
   "codemirror_mode": {
    "name": "ipython",
    "version": 3
   },
   "file_extension": ".py",
   "mimetype": "text/x-python",
   "name": "python",
   "nbconvert_exporter": "python",
   "pygments_lexer": "ipython3",
   "version": "3.9.16"
  }
 },
 "nbformat": 4,
 "nbformat_minor": 2
}
